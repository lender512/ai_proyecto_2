{
 "cells": [
  {
   "cell_type": "markdown",
   "metadata": {},
   "source": [
    "# Inteligencia Artificial Proyecto #2: Clasificación\n",
    "## Integrantes\n",
    "    - Luis Berrospi\n",
    "    - Pedro Dominguez\n",
    "    - Carlos Esteban Guerrero Robles"
   ]
  },
  {
   "cell_type": "markdown",
   "metadata": {},
   "source": [
    "### Lectura de datos"
   ]
  },
  {
   "cell_type": "code",
   "execution_count": 43,
   "metadata": {},
   "outputs": [],
   "source": [
    "import pandas as pd\n",
    "import numpy as np\n",
    "import os\n",
    "\n",
    "#Librerías de reducción de dimensiones\n",
    "import pywt\n",
    "import pywt.data\n",
    "\n",
    "#Librerías para lectura/edición de imágenes\n",
    "from skimage.io import imread, imshow\n",
    "from skimage.transform import resize\n",
    "from skimage.color import rgb2gray\n",
    "\n",
    "#Librerías para gráficas\n",
    "import matplotlib.pyplot as plt\n",
    "from tabulate import tabulate\n",
    "\n",
    "#Librerías de modelos de clasificación\n",
    "from sklearn import datasets\n",
    "from sklearn.model_selection import train_test_split\n",
    "from sklearn import svm\n",
    "from sklearn import tree\n",
    "from sklearn.decomposition import PCA\n",
    "from sklearn.discriminant_analysis import LinearDiscriminantAnalysis\n",
    "from sklearn.neighbors import KNeighborsClassifier, NeighborhoodComponentsAnalysis\n",
    "from sklearn.pipeline import make_pipeline\n",
    "from sklearn.preprocessing import StandardScaler\n",
    "from sklearn.model_selection import cross_val_score # k fold cross validation\n",
    "from sklearn import metrics # k fold cross validation"
   ]
  },
  {
   "cell_type": "code",
   "execution_count": 11,
   "metadata": {},
   "outputs": [],
   "source": [
    "train_csv_path = \"../data/sign_mnist_train.csv\"\n",
    "\n",
    "df_train = pd.read_csv(train_csv_path)\n",
    "df_train_x = df_train.loc[:, \"pixel1\":\"pixel784\"]\n",
    "df_train_y = df_train.label\n",
    "\n",
    "df_train = df_train.to_numpy()\n",
    "\n",
    "test_csv_path = \"../data/sign_mnist_test.csv\"\n",
    "\n",
    "df_test = pd.read_csv(test_csv_path)\n",
    "df_test_x = df_test.loc[:, \"pixel1\":\"pixel784\"]\n",
    "df_test_y = df_test.label\n",
    "\n",
    "df_test = df_test.to_numpy()"
   ]
  },
  {
   "cell_type": "markdown",
   "metadata": {},
   "source": [
    "### Reducción de dimensionalidad"
   ]
  },
  {
   "cell_type": "code",
   "execution_count": 17,
   "metadata": {},
   "outputs": [],
   "source": [
    "def reduce_dimension(letter, cuts, wavelet):\n",
    "  for i in range(cuts):\n",
    "    (letter, cD) = pywt.dwt(letter, wavelet)\n",
    "  return letter\n",
    "\n",
    "def vectorizar(matrix):\n",
    "  return matrix.flatten()\n",
    "\n",
    "def proccess_letters(dataset, wavelet):\n",
    "  \n",
    "  data_X = []\n",
    "  data_Y = []\n",
    "\n",
    "  for letter_features in dataset:\n",
    "      \n",
    "      letter = letter_features[0]\n",
    "      data_Y.append(letter)\n",
    "\n",
    "      letter_features = reduce_dimension(letter_features[1:], 2, wavelet)\n",
    "      letter_features = vectorizar(letter_features)\n",
    "      data_X.append(letter_features)\n",
    "\n",
    "  return data_X, data_Y"
   ]
  },
  {
   "cell_type": "markdown",
   "metadata": {},
   "source": [
    "#### Wavelet transform"
   ]
  },
  {
   "cell_type": "code",
   "execution_count": 18,
   "metadata": {},
   "outputs": [],
   "source": [
    "discrete_wavelets = ['haar', 'bior', 'coif', 'rbio', 'sym', 'db', 'dmey']\n",
    "discrete_wavelets = [ wavelet for wavelet in pywt.wavelist(kind='discrete')]"
   ]
  },
  {
   "cell_type": "markdown",
   "metadata": {},
   "source": [
    "#### PCA"
   ]
  },
  {
   "cell_type": "code",
   "execution_count": 5,
   "metadata": {},
   "outputs": [],
   "source": [
    "#print(df_train.shape)\n",
    "#print(df_test.shape)\n",
    "random_state = 0\n",
    "pca = make_pipeline(StandardScaler(), PCA(n_components=2, random_state=random_state))"
   ]
  },
  {
   "cell_type": "markdown",
   "metadata": {},
   "source": [
    "### SVM"
   ]
  },
  {
   "cell_type": "code",
   "execution_count": 6,
   "metadata": {},
   "outputs": [],
   "source": [
    "def SVM_classification(df_train_x, df_train_y, df_test_x):\n",
    "    _svm = svm.SVC(kernel='linear')\n",
    "    _svm.fit(df_train_x,df_train_y)\n",
    "    svm_predicted = _svm.predict(df_test_x)\n",
    "\n",
    "    return svm_predicted"
   ]
  },
  {
   "cell_type": "markdown",
   "metadata": {},
   "source": [
    "#### Estimación del error"
   ]
  },
  {
   "cell_type": "code",
   "execution_count": 7,
   "metadata": {},
   "outputs": [],
   "source": [
    "def get_SVM_error(svm_predicted):\n",
    "    svm_success = 0.0\n",
    "    for i, val in enumerate(svm_predicted):\n",
    "        if val == df_test_y[i]:\n",
    "            svm_success += 1\n",
    "            \n",
    "    return svm_success/len(svm_predicted)*100"
   ]
  },
  {
   "cell_type": "markdown",
   "metadata": {},
   "source": [
    "#### Tabla de resumen"
   ]
  },
  {
   "cell_type": "code",
   "execution_count": null,
   "metadata": {},
   "outputs": [],
   "source": [
    "svm_wavelets = list()\n",
    "svm_acurracies = list()\n",
    "\n",
    "\n",
    "for wavelet in discrete_wavelets:\n",
    "    df_train_x, df_train_y = proccess_letters(df_train, wavelet)\n",
    "    df_test_x, df_test_y = proccess_letters(df_test, wavelet)\n",
    "\n",
    "    svm_predicted = SVM_classification(df_train_x, df_train_y, df_test_x)\n",
    "    svm_accuracy = get_SVM_error(svm_predicted)\n",
    "\n",
    "    svm_wavelets.append(wavelet)\n",
    "    svm_acurracies.append(svm_accuracy)"
   ]
  },
  {
   "cell_type": "code",
   "execution_count": 45,
   "metadata": {},
   "outputs": [],
   "source": [
    "svm_experiment = [[svm_wavelets[i][:], accuracy] for i, accuracy in enumerate(svm_acurracies) if accuracy > 83]\n",
    "svm_experiment = sorted(svm_experiment, key = lambda item: item[1], reverse = True)"
   ]
  },
  {
   "cell_type": "code",
   "execution_count": 47,
   "metadata": {},
   "outputs": [
    {
     "name": "stdout",
     "output_type": "stream",
     "text": [
      "-------  -------\n",
      "db4      83.6168\n",
      "coif5    83.589\n",
      "coif8    83.589\n",
      "coif2    83.575\n",
      "sym5     83.575\n",
      "rbio2.2  83.4495\n",
      "coif7    83.3659\n",
      "coif6    83.2962\n",
      "coif3    83.2125\n",
      "coif4    83.1149\n",
      "sym9     83.1149\n",
      "coif10   83.0312\n",
      "db10     83.0312\n",
      "-------  -------\n"
     ]
    },
    {
     "data": {
      "text/plain": [
       "' # creating the bar plot\\nplt.bar(svm_experiment.keys(), svm_experiment.values())\\n \\nplt.xlabel(\"Wavelets\")\\nplt.ylabel(\"Accuracies\")\\nplt.title(\"SVM\")\\nplt.show() '"
      ]
     },
     "execution_count": 47,
     "metadata": {},
     "output_type": "execute_result"
    },
    {
     "data": {
      "text/plain": [
       "<Figure size 1000x500 with 0 Axes>"
      ]
     },
     "metadata": {},
     "output_type": "display_data"
    }
   ],
   "source": [
    "fig = plt.figure(figsize = (10, 5))\n",
    " \n",
    "print(tabulate(svm_experiment))\n",
    "\"\"\" # creating the bar plot\n",
    "plt.bar(svm_experiment.keys(), svm_experiment.values())\n",
    " \n",
    "plt.xlabel(\"Wavelets\")\n",
    "plt.ylabel(\"Accuracies\")\n",
    "plt.title(\"SVM\")\n",
    "plt.show() \"\"\""
   ]
  },
  {
   "cell_type": "markdown",
   "metadata": {},
   "source": [
    "### KNN"
   ]
  },
  {
   "cell_type": "code",
   "execution_count": 7,
   "metadata": {},
   "outputs": [
    {
     "ename": "",
     "evalue": "",
     "output_type": "error",
     "traceback": [
      "\u001b[1;31mCanceled future for execute_request message before replies were done"
     ]
    },
    {
     "ename": "",
     "evalue": "",
     "output_type": "error",
     "traceback": [
      "\u001b[1;31mThe Kernel crashed while executing code in the the current cell or a previous cell. Please review the code in the cell(s) to identify a possible cause of the failure. Click <a href='https://aka.ms/vscodeJupyterKernelCrash'>here</a> for more info. View Jupyter <a href='command:jupyter.viewOutput'>log</a> for further details."
     ]
    }
   ],
   "source": [
    "knn = KNeighborsClassifier(n_neighbors=24)\n",
    "knn.fit(df_train_x,df_train_y)\n",
    "knn_predicted = knn.predict(df_test_x)"
   ]
  },
  {
   "cell_type": "markdown",
   "metadata": {},
   "source": [
    "#### Estimación del error"
   ]
  },
  {
   "cell_type": "code",
   "execution_count": 12,
   "metadata": {},
   "outputs": [
    {
     "name": "stdout",
     "output_type": "stream",
     "text": [
      "76.26882320133855\n"
     ]
    }
   ],
   "source": [
    "knn_success = 0.0\n",
    "for i, val in enumerate(knn_predicted):\n",
    "    if val == df_test_y[i]:\n",
    "        knn_success += 1\n",
    "print(knn_success/len(knn_predicted)*100)"
   ]
  },
  {
   "cell_type": "markdown",
   "metadata": {},
   "source": [
    "#### Tabla de resumen"
   ]
  },
  {
   "cell_type": "markdown",
   "metadata": {},
   "source": [
    "### Decision tree"
   ]
  },
  {
   "cell_type": "code",
   "execution_count": 14,
   "metadata": {},
   "outputs": [],
   "source": [
    "dt = tree.DecisionTreeClassifier()\n",
    "dt.fit(df_train_x,df_train_y)\n",
    "dt_predicted = dt.predict(df_test_x)"
   ]
  },
  {
   "cell_type": "markdown",
   "metadata": {},
   "source": [
    "#### Estimación del error"
   ]
  },
  {
   "cell_type": "code",
   "execution_count": 15,
   "metadata": {},
   "outputs": [
    {
     "name": "stdout",
     "output_type": "stream",
     "text": [
      "46.9882877858338\n"
     ]
    }
   ],
   "source": [
    "dt_success = 0.0\n",
    "for i, val in enumerate(dt_predicted):\n",
    "    if val == df_test_y[i]:\n",
    "        dt_success += 1\n",
    "print(dt_success/len(dt_predicted)*100)"
   ]
  },
  {
   "cell_type": "markdown",
   "metadata": {
    "tags": []
   },
   "source": [
    "#### Tabla de resumen"
   ]
  },
  {
   "cell_type": "markdown",
   "metadata": {
    "tags": []
   },
   "source": [
    "### K Fold Cross Validation"
   ]
  },
  {
   "cell_type": "code",
   "execution_count": 12,
   "metadata": {},
   "outputs": [
    {
     "ename": "SyntaxError",
     "evalue": "invalid syntax (3753608538.py, line 1)",
     "output_type": "error",
     "traceback": [
      "\u001b[0;36m  Cell \u001b[0;32mIn [12], line 1\u001b[0;36m\u001b[0m\n\u001b[0;31m    def sklearn_k_fold_cross_validation (model, x_train, y_train, k)\u001b[0m\n\u001b[0m                                                                    ^\u001b[0m\n\u001b[0;31mSyntaxError\u001b[0m\u001b[0;31m:\u001b[0m invalid syntax\n"
     ]
    }
   ],
   "source": [
    "def sklearn_k_fold_cross_validation (model, x_train, y_train, k)\n",
    "    scores = cross_val_score(model, x_train, y_, cv = k, scoring = ‘accuracy’)\n",
    "    errors = 1 - scores\n",
    "    return scores, errors"
   ]
  }
 ],
 "metadata": {
  "kernelspec": {
   "display_name": "Python 3.9.2 ('venv': venv)",
   "language": "python",
   "name": "python3"
  },
  "language_info": {
   "codemirror_mode": {
    "name": "ipython",
    "version": 3
   },
   "file_extension": ".py",
   "mimetype": "text/x-python",
   "name": "python",
   "nbconvert_exporter": "python",
   "pygments_lexer": "ipython3",
   "version": "3.9.2"
  },
  "vscode": {
   "interpreter": {
    "hash": "67bb906f09da34e2c26e67dc6a9d867a380e7b8dec1e6d3996f99a1aad7ac05e"
   }
  }
 },
 "nbformat": 4,
 "nbformat_minor": 4
}
