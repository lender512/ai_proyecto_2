{
 "cells": [
  {
   "cell_type": "markdown",
   "metadata": {},
   "source": [
    "# Inteligencia Artificial Proyecto #2: Clasificación\n",
    "## Integrantes\n",
    "    - Luis Berrospi\n",
    "    - Pedro Dominguez\n",
    "    - Carlos Esteban Guerrero Robles"
   ]
  },
  {
   "cell_type": "markdown",
   "metadata": {},
   "source": [
    "### Lectura de datos"
   ]
  },
  {
   "cell_type": "code",
   "execution_count": 43,
   "metadata": {},
   "outputs": [],
   "source": [
    "import pandas as pd\n",
    "import numpy as np\n",
    "import os\n",
    "\n",
    "#Librerías que permitirá reducir dimensiones\n",
    "import pywt\n",
    "import pywt.data\n",
    "\n",
    "#Librerías para lectura/edición de imágenes\n",
    "from skimage.io import imread, imshow\n",
    "from skimage.transform import resize\n",
    "from skimage.color import rgb2gray\n",
    "\n",
    "#Librerías para generar gráficas\n",
    "import matplotlib.pyplot as plt\n",
    "from tabulate import tabulate\n",
    "\n",
    "#Librerías de modelos de clasificación\n",
    "from sklearn import datasets\n",
    "from sklearn.model_selection import train_test_split\n",
    "from sklearn import svm\n",
    "from sklearn import tree\n",
    "from sklearn.decomposition import PCA\n",
    "from sklearn.discriminant_analysis import LinearDiscriminantAnalysis\n",
    "from sklearn.neighbors import KNeighborsClassifier, NeighborhoodComponentsAnalysis\n",
    "from sklearn.pipeline import make_pipeline\n",
    "from sklearn.preprocessing import StandardScaler\n",
    "from sklearn.model_selection import cross_val_score # k fold cross validation\n",
    "from sklearn import metrics # k fold cross validation"
   ]
  },
  {
   "cell_type": "code",
   "execution_count": 11,
   "metadata": {},
   "outputs": [],
   "source": [
    "train_csv_path = \"../data/sign_mnist_train.csv\"\n",
    "\n",
    "df_train = pd.read_csv(train_csv_path)\n",
    "df_train_x = df_train.loc[:, \"pixel1\":\"pixel784\"]\n",
    "df_train_y = df_train.label\n",
    "\n",
    "df_train = df_train.to_numpy()\n",
    "\n",
    "test_csv_path = \"../data/sign_mnist_test.csv\"\n",
    "\n",
    "df_test = pd.read_csv(test_csv_path)\n",
    "df_test_x = df_test.loc[:, \"pixel1\":\"pixel784\"]\n",
    "df_test_y = df_test.label\n",
    "\n",
    "df_test = df_test.to_numpy()"
   ]
  },
  {
   "cell_type": "markdown",
   "metadata": {},
   "source": [
    "### Reducción de dimensionalidad"
   ]
  },
  {
   "cell_type": "code",
   "execution_count": 81,
   "metadata": {},
   "outputs": [],
   "source": [
    "def reduce_dimension(letter, cuts, wavelet):\n",
    "  for i in range(cuts):\n",
    "    (letter, cD) = pywt.dwt(letter, wavelet)\n",
    "  return letter\n",
    "\n",
    "def vectorizar(matrix):\n",
    "  return matrix.flatten()\n",
    "\n",
    "def proccess_letters(dataset, wavelet, cuts):\n",
    "  \n",
    "  data_X = []\n",
    "  data_Y = []\n",
    "\n",
    "  for letter_features in dataset:\n",
    "      \n",
    "      letter = letter_features[0]\n",
    "      data_Y.append(letter)\n",
    "\n",
    "      letter_features = reduce_dimension(letter_features[1:], cuts, wavelet)\n",
    "      letter_features = vectorizar(letter_features)\n",
    "      data_X.append(letter_features)\n",
    "\n",
    "  return data_X, data_Y"
   ]
  },
  {
   "cell_type": "markdown",
   "metadata": {},
   "source": [
    "#### Wavelet families"
   ]
  },
  {
   "cell_type": "code",
   "execution_count": 61,
   "metadata": {},
   "outputs": [],
   "source": [
    "discrete_family_wavelets = ['haar', 'bior', 'coif', 'rbio', 'sym', 'db', 'dmey']\n",
    "discrete_wavelets = {family:pywt.wavelist(family) for family in discrete_family_wavelets}"
   ]
  },
  {
   "cell_type": "markdown",
   "metadata": {},
   "source": [
    "#### PCA"
   ]
  },
  {
   "cell_type": "code",
   "execution_count": 5,
   "metadata": {},
   "outputs": [],
   "source": [
    "#print(df_train.shape)\n",
    "#print(df_test.shape)\n",
    "random_state = 0\n",
    "pca = make_pipeline(StandardScaler(), PCA(n_components=2, random_state=random_state))"
   ]
  },
  {
   "cell_type": "markdown",
   "metadata": {},
   "source": [
    "### Experiments"
   ]
  },
  {
   "cell_type": "markdown",
   "metadata": {},
   "source": [
    "#### Wavelet experiment"
   ]
  },
  {
   "cell_type": "code",
   "execution_count": 80,
   "metadata": {},
   "outputs": [],
   "source": [
    "def wavelet_experiment(classification, get_accuracy):\n",
    "    experiment_wavelets = dict()\n",
    "\n",
    "    for family, wavelets in discrete_wavelets.items():\n",
    "        wavelets_accuracy_list = list()\n",
    "        \n",
    "        for wavelet in wavelets:\n",
    "            df_train_x, df_train_y = proccess_letters(df_train, wavelet)\n",
    "            df_test_x, df_test_y = proccess_letters(df_test, wavelet)\n",
    "\n",
    "            prediction = classification(df_train_x, df_train_y, df_test_x)\n",
    "            accuracy = get_accuracy(prediction)\n",
    "\n",
    "            wavelets_accuracy_list.append((wavelet, accuracy))\n",
    "        \n",
    "        experiment_wavelets[family] = wavelets_accuracy_list\n",
    "    \n",
    "    return experiment_wavelets"
   ]
  },
  {
   "cell_type": "markdown",
   "metadata": {},
   "source": [
    "#### Accuracy calculation"
   ]
  },
  {
   "cell_type": "code",
   "execution_count": null,
   "metadata": {},
   "outputs": [],
   "source": [
    "def get_max_accuracy(experiment_wavelets):\n",
    "    max_results = list()\n",
    "\n",
    "    for family, result in experiment_wavelets.items():\n",
    "        max_result = max(result, key = lambda tuple: tuple[1])\n",
    "        max_results.append(max_result)\n",
    "\n",
    "    return max_results"
   ]
  },
  {
   "cell_type": "markdown",
   "metadata": {},
   "source": [
    "### SVM"
   ]
  },
  {
   "cell_type": "code",
   "execution_count": 76,
   "metadata": {},
   "outputs": [],
   "source": [
    "def SVM_classification(df_train_x, df_train_y, df_test_x):\n",
    "    _svm = svm.SVC(kernel='linear')\n",
    "    _svm.fit(df_train_x,df_train_y)\n",
    "    svm_predicted = _svm.predict(df_test_x)\n",
    "\n",
    "    return svm_predicted"
   ]
  },
  {
   "cell_type": "markdown",
   "metadata": {},
   "source": [
    "#### Estimación del error"
   ]
  },
  {
   "cell_type": "code",
   "execution_count": 75,
   "metadata": {},
   "outputs": [],
   "source": [
    "def get_SVM_error(svm_predicted):\n",
    "    svm_success = 0.0\n",
    "    for i, val in enumerate(svm_predicted):\n",
    "        if val == df_test_y[i]:\n",
    "            svm_success += 1\n",
    "            \n",
    "    return svm_success/len(svm_predicted)*100"
   ]
  },
  {
   "cell_type": "markdown",
   "metadata": {},
   "source": [
    "#### Tabla de resumen"
   ]
  },
  {
   "cell_type": "code",
   "execution_count": 78,
   "metadata": {},
   "outputs": [
    {
     "name": "stdout",
     "output_type": "stream",
     "text": [
      "('haar', 80.77244841048523)\n",
      "('bior1.5', 82.40379252649191)\n",
      "('coif5', 83.58895705521472)\n",
      "('rbio2.2', 83.4495259341885)\n",
      "('sym5', 83.5750139431121)\n",
      "('db4', 83.61684327941997)\n",
      "('dmey', 81.51143335192414)\n"
     ]
    }
   ],
   "source": [
    "svm_experiment_wavelets = wavelet_experiment(SVM_classification, get_SVM_error)\n",
    "\n",
    "svm_experiment_wavelets_max = get_max_accuracy(svm_experiment_wavelets)\n",
    "\n",
    "print(\"SVM wavelets experiment:\")\n",
    "svm_experiment_wavelets_max"
   ]
  },
  {
   "cell_type": "markdown",
   "metadata": {},
   "source": [
    "### KNN"
   ]
  },
  {
   "cell_type": "code",
   "execution_count": 7,
   "metadata": {},
   "outputs": [
    {
     "ename": "",
     "evalue": "",
     "output_type": "error",
     "traceback": [
      "\u001b[1;31mCanceled future for execute_request message before replies were done"
     ]
    },
    {
     "ename": "",
     "evalue": "",
     "output_type": "error",
     "traceback": [
      "\u001b[1;31mThe Kernel crashed while executing code in the the current cell or a previous cell. Please review the code in the cell(s) to identify a possible cause of the failure. Click <a href='https://aka.ms/vscodeJupyterKernelCrash'>here</a> for more info. View Jupyter <a href='command:jupyter.viewOutput'>log</a> for further details."
     ]
    }
   ],
   "source": [
    "knn = KNeighborsClassifier(n_neighbors=24)\n",
    "knn.fit(df_train_x,df_train_y)\n",
    "knn_predicted = knn.predict(df_test_x)"
   ]
  },
  {
   "cell_type": "markdown",
   "metadata": {},
   "source": [
    "#### Estimación del error"
   ]
  },
  {
   "cell_type": "code",
   "execution_count": 12,
   "metadata": {},
   "outputs": [
    {
     "name": "stdout",
     "output_type": "stream",
     "text": [
      "76.26882320133855\n"
     ]
    }
   ],
   "source": [
    "knn_success = 0.0\n",
    "for i, val in enumerate(knn_predicted):\n",
    "    if val == df_test_y[i]:\n",
    "        knn_success += 1\n",
    "print(knn_success/len(knn_predicted)*100)"
   ]
  },
  {
   "cell_type": "markdown",
   "metadata": {},
   "source": [
    "#### Tabla de resumen"
   ]
  },
  {
   "cell_type": "markdown",
   "metadata": {},
   "source": [
    "### Decision tree"
   ]
  },
  {
   "cell_type": "code",
   "execution_count": 65,
   "metadata": {},
   "outputs": [],
   "source": [
    "def DT_classification(df_train_x, df_train_y, df_test_x):\n",
    "    dt = tree.DecisionTreeClassifier()\n",
    "    dt.fit(df_train_x,df_train_y)\n",
    "    dt_predicted = dt.predict(df_test_x)\n",
    "\n",
    "    return dt_predicted"
   ]
  },
  {
   "cell_type": "markdown",
   "metadata": {},
   "source": [
    "#### Estimación del error"
   ]
  },
  {
   "cell_type": "code",
   "execution_count": 66,
   "metadata": {},
   "outputs": [],
   "source": [
    "def get_DT_error(dt_predicted):\n",
    "    dt_success = 0.0\n",
    "    for i, val in enumerate(dt_predicted):\n",
    "        if val == df_test_y[i]:\n",
    "            dt_success += 1\n",
    "    return dt_success/len(dt_predicted)*100"
   ]
  },
  {
   "cell_type": "markdown",
   "metadata": {
    "tags": []
   },
   "source": [
    "#### Tabla de resumen"
   ]
  },
  {
   "cell_type": "code",
   "execution_count": 74,
   "metadata": {},
   "outputs": [
    {
     "name": "stdout",
     "output_type": "stream",
     "text": [
      "('haar', 45.133853876185164)\n",
      "('bior1.3', 51.436140546569995)\n",
      "('coif5', 50.76687116564417)\n",
      "('rbio3.7', 53.471834913552705)\n",
      "('sym11', 52.900167317345236)\n",
      "('db31', 52.370329057445616)\n",
      "('dmey', 49.28890128276631)\n"
     ]
    }
   ],
   "source": [
    "dt_experiment_wavelets = wavelet_experiment(DT_classification, get_DT_error)\n",
    "\n",
    "dt_experiment_wavelets_max = get_max_accuracy(dt_experiment_wavelets)\n",
    "\n",
    "print(\"Decision tree wavelets experiment:\")\n",
    "dt_experiment_wavelets_max"
   ]
  },
  {
   "cell_type": "code",
   "execution_count": null,
   "metadata": {},
   "outputs": [],
   "source": [
    "dt_experiment_dimension = dimension_experiment(DT_classification, get_DT_error)\n",
    "\n",
    "dt_experiment_dimension_max = get_max_accuracy(dt_experiment_dimension)\n",
    "\n",
    "print(\"Decision tree wavelets experiment:\")\n",
    "dt_experiment_dimension_max"
   ]
  },
  {
   "cell_type": "markdown",
   "metadata": {
    "tags": []
   },
   "source": [
    "### K Fold Cross Validation"
   ]
  },
  {
   "cell_type": "code",
   "execution_count": 12,
   "metadata": {},
   "outputs": [
    {
     "ename": "SyntaxError",
     "evalue": "invalid syntax (3753608538.py, line 1)",
     "output_type": "error",
     "traceback": [
      "\u001b[0;36m  Cell \u001b[0;32mIn [12], line 1\u001b[0;36m\u001b[0m\n\u001b[0;31m    def sklearn_k_fold_cross_validation (model, x_train, y_train, k)\u001b[0m\n\u001b[0m                                                                    ^\u001b[0m\n\u001b[0;31mSyntaxError\u001b[0m\u001b[0;31m:\u001b[0m invalid syntax\n"
     ]
    }
   ],
   "source": [
    "def sklearn_k_fold_cross_validation (model, x_train, y_train, k)\n",
    "    scores = cross_val_score(model, x_train, y_, cv = k, scoring = ‘accuracy’)\n",
    "    errors = 1 - scores\n",
    "    return scores, errors"
   ]
  }
 ],
 "metadata": {
  "kernelspec": {
   "display_name": "Python 3.9.2 ('venv': venv)",
   "language": "python",
   "name": "python3"
  },
  "language_info": {
   "codemirror_mode": {
    "name": "ipython",
    "version": 3
   },
   "file_extension": ".py",
   "mimetype": "text/x-python",
   "name": "python",
   "nbconvert_exporter": "python",
   "pygments_lexer": "ipython3",
   "version": "3.9.2"
  },
  "vscode": {
   "interpreter": {
    "hash": "67bb906f09da34e2c26e67dc6a9d867a380e7b8dec1e6d3996f99a1aad7ac05e"
   }
  }
 },
 "nbformat": 4,
 "nbformat_minor": 4
}
